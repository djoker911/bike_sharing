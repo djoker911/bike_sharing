{
 "cells": [
  {
   "cell_type": "code",
   "execution_count": 1,
   "metadata": {},
   "outputs": [],
   "source": [
    "import pylab\n",
    "import calendar\n",
    "import numpy as np\n",
    "import pandas as pd\n",
    "import seaborn as sns\n",
    "from scipy import stats\n",
    "import missingno as msno\n",
    "from datetime import datetime\n",
    "import matplotlib.pyplot as plt\n",
    "import warnings\n",
    "pd.options.mode.chained_assignment = None\n",
    "warnings.filterwarnings(\"ignore\", category=DeprecationWarning)\n",
    "%matplotlib inline\n",
    "train_data_path= './data/train.csv'\n",
    "test_data_path= './data/test.csv'"
   ]
  },
  {
   "cell_type": "code",
   "execution_count": 2,
   "metadata": {},
   "outputs": [],
   "source": [
    "data_train = pd.read_csv(train_data_path)\n",
    "data_test = pd.read_csv(test_data_path)\n",
    "\n"
   ]
  },
  {
   "cell_type": "code",
   "execution_count": 3,
   "metadata": {},
   "outputs": [
    {
     "data": {
      "text/html": [
       "<div>\n",
       "<style>\n",
       "    .dataframe thead tr:only-child th {\n",
       "        text-align: right;\n",
       "    }\n",
       "\n",
       "    .dataframe thead th {\n",
       "        text-align: left;\n",
       "    }\n",
       "\n",
       "    .dataframe tbody tr th {\n",
       "        vertical-align: top;\n",
       "    }\n",
       "</style>\n",
       "<table border=\"1\" class=\"dataframe\">\n",
       "  <thead>\n",
       "    <tr style=\"text-align: right;\">\n",
       "      <th></th>\n",
       "      <th>atemp</th>\n",
       "      <th>casual</th>\n",
       "      <th>count</th>\n",
       "      <th>datetime</th>\n",
       "      <th>holiday</th>\n",
       "      <th>humidity</th>\n",
       "      <th>registered</th>\n",
       "      <th>season</th>\n",
       "      <th>temp</th>\n",
       "      <th>weather</th>\n",
       "      <th>windspeed</th>\n",
       "      <th>workingday</th>\n",
       "    </tr>\n",
       "  </thead>\n",
       "  <tbody>\n",
       "    <tr>\n",
       "      <th>0</th>\n",
       "      <td>14.395</td>\n",
       "      <td>3.0</td>\n",
       "      <td>16.0</td>\n",
       "      <td>2011-01-01 00:00:00</td>\n",
       "      <td>0</td>\n",
       "      <td>81</td>\n",
       "      <td>13.0</td>\n",
       "      <td>1</td>\n",
       "      <td>9.84</td>\n",
       "      <td>1</td>\n",
       "      <td>0.0</td>\n",
       "      <td>0</td>\n",
       "    </tr>\n",
       "    <tr>\n",
       "      <th>1</th>\n",
       "      <td>13.635</td>\n",
       "      <td>8.0</td>\n",
       "      <td>40.0</td>\n",
       "      <td>2011-01-01 01:00:00</td>\n",
       "      <td>0</td>\n",
       "      <td>80</td>\n",
       "      <td>32.0</td>\n",
       "      <td>1</td>\n",
       "      <td>9.02</td>\n",
       "      <td>1</td>\n",
       "      <td>0.0</td>\n",
       "      <td>0</td>\n",
       "    </tr>\n",
       "    <tr>\n",
       "      <th>2</th>\n",
       "      <td>13.635</td>\n",
       "      <td>5.0</td>\n",
       "      <td>32.0</td>\n",
       "      <td>2011-01-01 02:00:00</td>\n",
       "      <td>0</td>\n",
       "      <td>80</td>\n",
       "      <td>27.0</td>\n",
       "      <td>1</td>\n",
       "      <td>9.02</td>\n",
       "      <td>1</td>\n",
       "      <td>0.0</td>\n",
       "      <td>0</td>\n",
       "    </tr>\n",
       "    <tr>\n",
       "      <th>3</th>\n",
       "      <td>14.395</td>\n",
       "      <td>3.0</td>\n",
       "      <td>13.0</td>\n",
       "      <td>2011-01-01 03:00:00</td>\n",
       "      <td>0</td>\n",
       "      <td>75</td>\n",
       "      <td>10.0</td>\n",
       "      <td>1</td>\n",
       "      <td>9.84</td>\n",
       "      <td>1</td>\n",
       "      <td>0.0</td>\n",
       "      <td>0</td>\n",
       "    </tr>\n",
       "    <tr>\n",
       "      <th>4</th>\n",
       "      <td>14.395</td>\n",
       "      <td>0.0</td>\n",
       "      <td>1.0</td>\n",
       "      <td>2011-01-01 04:00:00</td>\n",
       "      <td>0</td>\n",
       "      <td>75</td>\n",
       "      <td>1.0</td>\n",
       "      <td>1</td>\n",
       "      <td>9.84</td>\n",
       "      <td>1</td>\n",
       "      <td>0.0</td>\n",
       "      <td>0</td>\n",
       "    </tr>\n",
       "  </tbody>\n",
       "</table>\n",
       "</div>"
      ],
      "text/plain": [
       "    atemp  casual  count             datetime  holiday  humidity  registered  \\\n",
       "0  14.395     3.0   16.0  2011-01-01 00:00:00        0        81        13.0   \n",
       "1  13.635     8.0   40.0  2011-01-01 01:00:00        0        80        32.0   \n",
       "2  13.635     5.0   32.0  2011-01-01 02:00:00        0        80        27.0   \n",
       "3  14.395     3.0   13.0  2011-01-01 03:00:00        0        75        10.0   \n",
       "4  14.395     0.0    1.0  2011-01-01 04:00:00        0        75         1.0   \n",
       "\n",
       "   season  temp  weather  windspeed  workingday  \n",
       "0       1  9.84        1        0.0           0  \n",
       "1       1  9.02        1        0.0           0  \n",
       "2       1  9.02        1        0.0           0  \n",
       "3       1  9.84        1        0.0           0  \n",
       "4       1  9.84        1        0.0           0  "
      ]
     },
     "execution_count": 3,
     "metadata": {},
     "output_type": "execute_result"
    }
   ],
   "source": [
    "data = data_train.append(data_test)\n",
    "data.reset_index(inplace=True)\n",
    "data.drop('index', inplace=True, axis=1)\n",
    "data.head(5)"
   ]
  },
  {
   "cell_type": "code",
   "execution_count": 4,
   "metadata": {},
   "outputs": [
    {
     "data": {
      "text/html": [
       "<div>\n",
       "<style>\n",
       "    .dataframe thead tr:only-child th {\n",
       "        text-align: right;\n",
       "    }\n",
       "\n",
       "    .dataframe thead th {\n",
       "        text-align: left;\n",
       "    }\n",
       "\n",
       "    .dataframe tbody tr th {\n",
       "        vertical-align: top;\n",
       "    }\n",
       "</style>\n",
       "<table border=\"1\" class=\"dataframe\">\n",
       "  <thead>\n",
       "    <tr style=\"text-align: right;\">\n",
       "      <th></th>\n",
       "      <th>atemp</th>\n",
       "      <th>casual</th>\n",
       "      <th>count</th>\n",
       "      <th>datetime</th>\n",
       "      <th>holiday</th>\n",
       "      <th>humidity</th>\n",
       "      <th>registered</th>\n",
       "      <th>season</th>\n",
       "      <th>temp</th>\n",
       "      <th>weather</th>\n",
       "      <th>windspeed</th>\n",
       "      <th>workingday</th>\n",
       "      <th>date</th>\n",
       "      <th>hour</th>\n",
       "      <th>year</th>\n",
       "      <th>weekday</th>\n",
       "      <th>month</th>\n",
       "    </tr>\n",
       "  </thead>\n",
       "  <tbody>\n",
       "    <tr>\n",
       "      <th>0</th>\n",
       "      <td>14.395</td>\n",
       "      <td>3.0</td>\n",
       "      <td>16.0</td>\n",
       "      <td>2011-01-01 00:00:00</td>\n",
       "      <td>0</td>\n",
       "      <td>81</td>\n",
       "      <td>13.0</td>\n",
       "      <td>1</td>\n",
       "      <td>9.84</td>\n",
       "      <td>1</td>\n",
       "      <td>0.0</td>\n",
       "      <td>0</td>\n",
       "      <td>2011-01-01</td>\n",
       "      <td>0</td>\n",
       "      <td>2011</td>\n",
       "      <td>5</td>\n",
       "      <td>1</td>\n",
       "    </tr>\n",
       "    <tr>\n",
       "      <th>1</th>\n",
       "      <td>13.635</td>\n",
       "      <td>8.0</td>\n",
       "      <td>40.0</td>\n",
       "      <td>2011-01-01 01:00:00</td>\n",
       "      <td>0</td>\n",
       "      <td>80</td>\n",
       "      <td>32.0</td>\n",
       "      <td>1</td>\n",
       "      <td>9.02</td>\n",
       "      <td>1</td>\n",
       "      <td>0.0</td>\n",
       "      <td>0</td>\n",
       "      <td>2011-01-01</td>\n",
       "      <td>1</td>\n",
       "      <td>2011</td>\n",
       "      <td>5</td>\n",
       "      <td>1</td>\n",
       "    </tr>\n",
       "    <tr>\n",
       "      <th>2</th>\n",
       "      <td>13.635</td>\n",
       "      <td>5.0</td>\n",
       "      <td>32.0</td>\n",
       "      <td>2011-01-01 02:00:00</td>\n",
       "      <td>0</td>\n",
       "      <td>80</td>\n",
       "      <td>27.0</td>\n",
       "      <td>1</td>\n",
       "      <td>9.02</td>\n",
       "      <td>1</td>\n",
       "      <td>0.0</td>\n",
       "      <td>0</td>\n",
       "      <td>2011-01-01</td>\n",
       "      <td>2</td>\n",
       "      <td>2011</td>\n",
       "      <td>5</td>\n",
       "      <td>1</td>\n",
       "    </tr>\n",
       "    <tr>\n",
       "      <th>3</th>\n",
       "      <td>14.395</td>\n",
       "      <td>3.0</td>\n",
       "      <td>13.0</td>\n",
       "      <td>2011-01-01 03:00:00</td>\n",
       "      <td>0</td>\n",
       "      <td>75</td>\n",
       "      <td>10.0</td>\n",
       "      <td>1</td>\n",
       "      <td>9.84</td>\n",
       "      <td>1</td>\n",
       "      <td>0.0</td>\n",
       "      <td>0</td>\n",
       "      <td>2011-01-01</td>\n",
       "      <td>3</td>\n",
       "      <td>2011</td>\n",
       "      <td>5</td>\n",
       "      <td>1</td>\n",
       "    </tr>\n",
       "    <tr>\n",
       "      <th>4</th>\n",
       "      <td>14.395</td>\n",
       "      <td>0.0</td>\n",
       "      <td>1.0</td>\n",
       "      <td>2011-01-01 04:00:00</td>\n",
       "      <td>0</td>\n",
       "      <td>75</td>\n",
       "      <td>1.0</td>\n",
       "      <td>1</td>\n",
       "      <td>9.84</td>\n",
       "      <td>1</td>\n",
       "      <td>0.0</td>\n",
       "      <td>0</td>\n",
       "      <td>2011-01-01</td>\n",
       "      <td>4</td>\n",
       "      <td>2011</td>\n",
       "      <td>5</td>\n",
       "      <td>1</td>\n",
       "    </tr>\n",
       "  </tbody>\n",
       "</table>\n",
       "</div>"
      ],
      "text/plain": [
       "    atemp  casual  count             datetime  holiday  humidity  registered  \\\n",
       "0  14.395     3.0   16.0  2011-01-01 00:00:00        0        81        13.0   \n",
       "1  13.635     8.0   40.0  2011-01-01 01:00:00        0        80        32.0   \n",
       "2  13.635     5.0   32.0  2011-01-01 02:00:00        0        80        27.0   \n",
       "3  14.395     3.0   13.0  2011-01-01 03:00:00        0        75        10.0   \n",
       "4  14.395     0.0    1.0  2011-01-01 04:00:00        0        75         1.0   \n",
       "\n",
       "   season  temp  weather  windspeed  workingday        date  hour  year  \\\n",
       "0       1  9.84        1        0.0           0  2011-01-01     0  2011   \n",
       "1       1  9.02        1        0.0           0  2011-01-01     1  2011   \n",
       "2       1  9.02        1        0.0           0  2011-01-01     2  2011   \n",
       "3       1  9.84        1        0.0           0  2011-01-01     3  2011   \n",
       "4       1  9.84        1        0.0           0  2011-01-01     4  2011   \n",
       "\n",
       "   weekday  month  \n",
       "0        5      1  \n",
       "1        5      1  \n",
       "2        5      1  \n",
       "3        5      1  \n",
       "4        5      1  "
      ]
     },
     "execution_count": 4,
     "metadata": {},
     "output_type": "execute_result"
    }
   ],
   "source": [
    "data['date'] = data.datetime.apply(lambda x : x.split()[0])\n",
    "data['hour'] = data.datetime.apply(lambda x : x.split()[1].split(\":\")[0]).astype('int')\n",
    "data['year'] = data.datetime.apply(lambda x : x.split()[0].split(\"-\")[0])\n",
    "data['weekday'] = data.date.apply(lambda x : datetime.strptime(x, \"%Y-%m-%d\").weekday())\n",
    "data['month'] = data.date.apply(lambda x: datetime.strptime(x, \"%Y-%m-%d\").month)\n",
    "data.head(5)"
   ]
  },
  {
   "cell_type": "code",
   "execution_count": 5,
   "metadata": {},
   "outputs": [
    {
     "data": {
      "text/html": [
       "<div>\n",
       "<style>\n",
       "    .dataframe thead tr:only-child th {\n",
       "        text-align: right;\n",
       "    }\n",
       "\n",
       "    .dataframe thead th {\n",
       "        text-align: left;\n",
       "    }\n",
       "\n",
       "    .dataframe tbody tr th {\n",
       "        vertical-align: top;\n",
       "    }\n",
       "</style>\n",
       "<table border=\"1\" class=\"dataframe\">\n",
       "  <thead>\n",
       "    <tr style=\"text-align: right;\">\n",
       "      <th></th>\n",
       "      <th>windspeed</th>\n",
       "      <th>ws_cnt</th>\n",
       "    </tr>\n",
       "  </thead>\n",
       "  <tbody>\n",
       "    <tr>\n",
       "      <th>0</th>\n",
       "      <td>0.0000</td>\n",
       "      <td>2180</td>\n",
       "    </tr>\n",
       "    <tr>\n",
       "      <th>1</th>\n",
       "      <td>6.0032</td>\n",
       "      <td>1425</td>\n",
       "    </tr>\n",
       "    <tr>\n",
       "      <th>2</th>\n",
       "      <td>7.0015</td>\n",
       "      <td>1617</td>\n",
       "    </tr>\n",
       "    <tr>\n",
       "      <th>3</th>\n",
       "      <td>8.9981</td>\n",
       "      <td>1738</td>\n",
       "    </tr>\n",
       "    <tr>\n",
       "      <th>4</th>\n",
       "      <td>11.0014</td>\n",
       "      <td>1695</td>\n",
       "    </tr>\n",
       "  </tbody>\n",
       "</table>\n",
       "</div>"
      ],
      "text/plain": [
       "   windspeed  ws_cnt\n",
       "0     0.0000    2180\n",
       "1     6.0032    1425\n",
       "2     7.0015    1617\n",
       "3     8.9981    1738\n",
       "4    11.0014    1695"
      ]
     },
     "execution_count": 5,
     "metadata": {},
     "output_type": "execute_result"
    }
   ],
   "source": [
    "pd.DataFrame(data.groupby('windspeed').windspeed.count().reset_index(name=\"ws_cnt\")).head(5)"
   ]
  },
  {
   "cell_type": "raw",
   "metadata": {},
   "source": [
    "因為windspeed很多都沒有值, 所以預測一份塞進去"
   ]
  },
  {
   "cell_type": "code",
   "execution_count": 6,
   "metadata": {},
   "outputs": [
    {
     "name": "stdout",
     "output_type": "stream",
     "text": [
      "(2180, 17)\n",
      "(15199, 17)\n"
     ]
    }
   ],
   "source": [
    "from sklearn.ensemble import RandomForestRegressor\n",
    "\n",
    "data_wind_0 = data[data[\"windspeed\"]==0]\n",
    "data_wind_not_0 = data[data[\"windspeed\"] != 0]\n",
    "print data_wind_0.shape\n",
    "print data_wind_not_0.shape\n"
   ]
  },
  {
   "cell_type": "code",
   "execution_count": 7,
   "metadata": {},
   "outputs": [
    {
     "data": {
      "text/html": [
       "<div>\n",
       "<style>\n",
       "    .dataframe thead tr:only-child th {\n",
       "        text-align: right;\n",
       "    }\n",
       "\n",
       "    .dataframe thead th {\n",
       "        text-align: left;\n",
       "    }\n",
       "\n",
       "    .dataframe tbody tr th {\n",
       "        vertical-align: top;\n",
       "    }\n",
       "</style>\n",
       "<table border=\"1\" class=\"dataframe\">\n",
       "  <thead>\n",
       "    <tr style=\"text-align: right;\">\n",
       "      <th></th>\n",
       "      <th>atemp</th>\n",
       "      <th>casual</th>\n",
       "      <th>count</th>\n",
       "      <th>datetime</th>\n",
       "      <th>holiday</th>\n",
       "      <th>humidity</th>\n",
       "      <th>registered</th>\n",
       "      <th>season</th>\n",
       "      <th>temp</th>\n",
       "      <th>weather</th>\n",
       "      <th>windspeed</th>\n",
       "      <th>workingday</th>\n",
       "      <th>date</th>\n",
       "      <th>hour</th>\n",
       "      <th>year</th>\n",
       "      <th>weekday</th>\n",
       "      <th>month</th>\n",
       "    </tr>\n",
       "  </thead>\n",
       "  <tbody>\n",
       "    <tr>\n",
       "      <th>0</th>\n",
       "      <td>12.880</td>\n",
       "      <td>0.0</td>\n",
       "      <td>1.0</td>\n",
       "      <td>2011-01-01 05:00:00</td>\n",
       "      <td>0</td>\n",
       "      <td>75</td>\n",
       "      <td>1.0</td>\n",
       "      <td>1</td>\n",
       "      <td>9.84</td>\n",
       "      <td>2</td>\n",
       "      <td>6.0032</td>\n",
       "      <td>0</td>\n",
       "      <td>2011-01-01</td>\n",
       "      <td>5</td>\n",
       "      <td>2011</td>\n",
       "      <td>5</td>\n",
       "      <td>1</td>\n",
       "    </tr>\n",
       "    <tr>\n",
       "      <th>1</th>\n",
       "      <td>19.695</td>\n",
       "      <td>12.0</td>\n",
       "      <td>36.0</td>\n",
       "      <td>2011-01-01 10:00:00</td>\n",
       "      <td>0</td>\n",
       "      <td>76</td>\n",
       "      <td>24.0</td>\n",
       "      <td>1</td>\n",
       "      <td>15.58</td>\n",
       "      <td>1</td>\n",
       "      <td>16.9979</td>\n",
       "      <td>0</td>\n",
       "      <td>2011-01-01</td>\n",
       "      <td>10</td>\n",
       "      <td>2011</td>\n",
       "      <td>5</td>\n",
       "      <td>1</td>\n",
       "    </tr>\n",
       "    <tr>\n",
       "      <th>2</th>\n",
       "      <td>16.665</td>\n",
       "      <td>26.0</td>\n",
       "      <td>56.0</td>\n",
       "      <td>2011-01-01 11:00:00</td>\n",
       "      <td>0</td>\n",
       "      <td>81</td>\n",
       "      <td>30.0</td>\n",
       "      <td>1</td>\n",
       "      <td>14.76</td>\n",
       "      <td>1</td>\n",
       "      <td>19.0012</td>\n",
       "      <td>0</td>\n",
       "      <td>2011-01-01</td>\n",
       "      <td>11</td>\n",
       "      <td>2011</td>\n",
       "      <td>5</td>\n",
       "      <td>1</td>\n",
       "    </tr>\n",
       "    <tr>\n",
       "      <th>3</th>\n",
       "      <td>21.210</td>\n",
       "      <td>29.0</td>\n",
       "      <td>84.0</td>\n",
       "      <td>2011-01-01 12:00:00</td>\n",
       "      <td>0</td>\n",
       "      <td>77</td>\n",
       "      <td>55.0</td>\n",
       "      <td>1</td>\n",
       "      <td>17.22</td>\n",
       "      <td>1</td>\n",
       "      <td>19.0012</td>\n",
       "      <td>0</td>\n",
       "      <td>2011-01-01</td>\n",
       "      <td>12</td>\n",
       "      <td>2011</td>\n",
       "      <td>5</td>\n",
       "      <td>1</td>\n",
       "    </tr>\n",
       "    <tr>\n",
       "      <th>4</th>\n",
       "      <td>22.725</td>\n",
       "      <td>47.0</td>\n",
       "      <td>94.0</td>\n",
       "      <td>2011-01-01 13:00:00</td>\n",
       "      <td>0</td>\n",
       "      <td>72</td>\n",
       "      <td>47.0</td>\n",
       "      <td>1</td>\n",
       "      <td>18.86</td>\n",
       "      <td>2</td>\n",
       "      <td>19.9995</td>\n",
       "      <td>0</td>\n",
       "      <td>2011-01-01</td>\n",
       "      <td>13</td>\n",
       "      <td>2011</td>\n",
       "      <td>5</td>\n",
       "      <td>1</td>\n",
       "    </tr>\n",
       "  </tbody>\n",
       "</table>\n",
       "</div>"
      ],
      "text/plain": [
       "    atemp  casual  count             datetime  holiday  humidity  registered  \\\n",
       "0  12.880     0.0    1.0  2011-01-01 05:00:00        0        75         1.0   \n",
       "1  19.695    12.0   36.0  2011-01-01 10:00:00        0        76        24.0   \n",
       "2  16.665    26.0   56.0  2011-01-01 11:00:00        0        81        30.0   \n",
       "3  21.210    29.0   84.0  2011-01-01 12:00:00        0        77        55.0   \n",
       "4  22.725    47.0   94.0  2011-01-01 13:00:00        0        72        47.0   \n",
       "\n",
       "   season   temp  weather  windspeed  workingday        date  hour  year  \\\n",
       "0       1   9.84        2     6.0032           0  2011-01-01     5  2011   \n",
       "1       1  15.58        1    16.9979           0  2011-01-01    10  2011   \n",
       "2       1  14.76        1    19.0012           0  2011-01-01    11  2011   \n",
       "3       1  17.22        1    19.0012           0  2011-01-01    12  2011   \n",
       "4       1  18.86        2    19.9995           0  2011-01-01    13  2011   \n",
       "\n",
       "   weekday  month  \n",
       "0        5      1  \n",
       "1        5      1  \n",
       "2        5      1  \n",
       "3        5      1  \n",
       "4        5      1  "
      ]
     },
     "execution_count": 7,
     "metadata": {},
     "output_type": "execute_result"
    }
   ],
   "source": [
    "rf_model_wind = RandomForestRegressor()\n",
    "wind_columns = [\"season\", \"weather\", \"humidity\", \"month\", \"temp\", \"year\", \"atemp\"]\n",
    "rf_model_wind.fit(data_wind_not_0[wind_columns], data_wind_not_0[\"windspeed\"])\n",
    "\n",
    "wind_0_values= rf_model_wind.predict(X=data_wind_0[wind_columns])\n",
    "data_wind_0[\"windspeed\"] = wind_0_values \n",
    "data = data_wind_not_0.append(data_wind_0)\n",
    "data.reset_index(inplace=True)\n",
    "data.drop('index',inplace=True, axis=1)\n",
    "\n",
    "data.head(5)"
   ]
  },
  {
   "cell_type": "code",
   "execution_count": 8,
   "metadata": {},
   "outputs": [
    {
     "name": "stdout",
     "output_type": "stream",
     "text": [
      "<class 'pandas.core.frame.DataFrame'>\n",
      "Int64Index: 0 entries\n",
      "Data columns (total 17 columns):\n",
      "atemp         0 non-null float64\n",
      "casual        0 non-null float64\n",
      "count         0 non-null float64\n",
      "datetime      0 non-null object\n",
      "holiday       0 non-null int64\n",
      "humidity      0 non-null int64\n",
      "registered    0 non-null float64\n",
      "season        0 non-null int64\n",
      "temp          0 non-null float64\n",
      "weather       0 non-null int64\n",
      "windspeed     0 non-null float64\n",
      "workingday    0 non-null int64\n",
      "date          0 non-null object\n",
      "hour          0 non-null int64\n",
      "year          0 non-null object\n",
      "weekday       0 non-null int64\n",
      "month         0 non-null int64\n",
      "dtypes: float64(6), int64(8), object(3)\n",
      "memory usage: 0.0+ bytes\n"
     ]
    }
   ],
   "source": [
    "data[data[\"windspeed\"]==0].info()"
   ]
  },
  {
   "cell_type": "code",
   "execution_count": 9,
   "metadata": {},
   "outputs": [],
   "source": [
    "categorical_feature_names = [\"season\",\"holiday\",\"workingday\",\"weather\",\"weekday\",\"month\",\"year\",\"hour\"]\n",
    "numerical_feature_names = [\"temp\",\"humidity\",\"windspeed\",\"atemp\"]\n",
    "drop_features = ['casual',\"count\",\"datetime\",\"date\",\"registered\"]"
   ]
  },
  {
   "cell_type": "code",
   "execution_count": 10,
   "metadata": {},
   "outputs": [],
   "source": [
    "for var in categorical_feature_names:\n",
    "    data[var] = data[var].astype(\"category\")"
   ]
  },
  {
   "cell_type": "code",
   "execution_count": 11,
   "metadata": {},
   "outputs": [
    {
     "name": "stdout",
     "output_type": "stream",
     "text": [
      "(10886, 17)\n",
      "(6493, 17)\n"
     ]
    }
   ],
   "source": [
    "data_train = data[pd.notnull(data['count'])].sort_values(by=[\"datetime\"])\n",
    "data_test = data[~pd.notnull(data['count'])].sort_values(by=[\"datetime\"])\n",
    "datetime_col = data_test[\"datetime\"]\n",
    "y_labels = data_train[\"count\"]\n",
    "y_label_registered = data_train[\"registered\"]\n",
    "y_label_casual = data_train[\"casual\"]\n",
    "\n",
    "print data_train.shape\n",
    "print data_test.shape"
   ]
  },
  {
   "cell_type": "code",
   "execution_count": 12,
   "metadata": {},
   "outputs": [],
   "source": [
    "data_train = data_train.drop(drop_features, axis=1)\n",
    "data_test = data_test.drop(drop_features, axis=1)"
   ]
  },
  {
   "cell_type": "code",
   "execution_count": 13,
   "metadata": {},
   "outputs": [],
   "source": [
    "def rmsle(y, y_,convertExp=True):\n",
    "    if convertExp:\n",
    "        y = np.exp(y),\n",
    "        y_ = np.exp(y_)\n",
    "    log1 = np.nan_to_num(np.array([np.log(v + 1) for v in y]))\n",
    "    log2 = np.nan_to_num(np.array([np.log(v + 1) for v in y_]))\n",
    "    calc = (log1 - log2) ** 2\n",
    "    return np.sqrt(np.mean(calc))"
   ]
  },
  {
   "cell_type": "code",
   "execution_count": 14,
   "metadata": {},
   "outputs": [
    {
     "name": "stdout",
     "output_type": "stream",
     "text": [
      "181.14445383\n",
      "977.0\n",
      "1.24206621172\n",
      "-0.971227722787\n",
      "-0.851411632174\n",
      "-------------------\n",
      "166.681428836\n",
      "734.0\n",
      "1.02834360636\n",
      "-0.990164921243\n",
      "-0.870569788223\n"
     ]
    }
   ],
   "source": [
    "y_labels_wo_outlier = y_labels[np.abs(y_labels-y_labels.mean()) <= (3*y_labels.std())]\n",
    "\n",
    "print y_labels.std()\n",
    "print y_labels.max()\n",
    "print y_labels.skew()\n",
    "print np.log(y_labels).skew()\n",
    "print np.log1p(y_labels).skew()\n",
    "print '-------------------'\n",
    "print y_labels_wo_outlier.std()\n",
    "print y_labels_wo_outlier.max()\n",
    "print y_labels_wo_outlier.skew()\n",
    "print np.log(y_labels_wo_outlier).skew()\n",
    "print np.log1p(y_labels_wo_outlier).skew()"
   ]
  },
  {
   "cell_type": "code",
   "execution_count": 18,
   "metadata": {},
   "outputs": [],
   "source": [
    "from sklearn.linear_model import LinearRegression,Ridge,Lasso\n",
    "from sklearn.model_selection import GridSearchCV\n",
    "from sklearn import metrics\n",
    "import warnings\n",
    "pd.options.mode.chained_assignment = None\n",
    "warnings.filterwarnings(\"ignore\", category=DeprecationWarning)"
   ]
  },
  {
   "cell_type": "markdown",
   "metadata": {},
   "source": [
    "Linear regression"
   ]
  },
  {
   "cell_type": "code",
   "execution_count": 19,
   "metadata": {},
   "outputs": [
    {
     "name": "stdout",
     "output_type": "stream",
     "text": [
      "RMSLE Value For Linear Regression:  0.97796147008\n"
     ]
    }
   ],
   "source": [
    "l_model = LinearRegression()\n",
    "y_labels_log = np.log1p(y_labels)\n",
    "l_model.fit(X=data_train, y=y_labels_log)\n",
    "preds = l_model.predict(X =data_train)\n",
    "print \"RMSLE Value For Linear Regression: \",rmsle(np.exp(y_labels_log),np.exp(preds),False)"
   ]
  },
  {
   "cell_type": "markdown",
   "metadata": {},
   "source": [
    "**Regularization Model - Ridge**"
   ]
  },
  {
   "cell_type": "code",
   "execution_count": 24,
   "metadata": {},
   "outputs": [
    {
     "name": "stdout",
     "output_type": "stream",
     "text": [
      "{'alpha': 0.1, 'max_iter': 3000}\n",
      "RMSLE Value For Ridge Regression:  0.97796145503\n"
     ]
    },
    {
     "data": {
      "text/plain": [
       "<matplotlib.axes._subplots.AxesSubplot at 0x7f7d6ba3e790>"
      ]
     },
     "execution_count": 24,
     "metadata": {},
     "output_type": "execute_result"
    },
    {
     "data": {
      "image/png": "[encoded data removed]",
      "text/plain": [
       "<matplotlib.figure.Figure at 0x7f7d6efd4950>"
      ]
     },
     "metadata": {},
     "output_type": "display_data"
    }
   ],
   "source": [
    "ridge_m_ = Ridge()\n",
    "ridge_params_ = {'max_iter':[3000], 'alpha':[0.1, 1, 2, 3, 4, 10, 30,100,200,300,400,800,900,1000]}\n",
    "rmsle_scorer = metrics.make_scorer(rmsle, greater_is_better=False)\n",
    "grid_ridge_m = GridSearchCV(ridge_m_,\n",
    "                            ridge_params_,\n",
    "                            scoring = rmsle_scorer,\n",
    "                            cv=5)\n",
    "\n",
    "y_labels_log = np.log1p(y_labels)\n",
    "grid_ridge_m.fit(data_train, y_labels_log)\n",
    "preds = grid_ridge_m.predict(X=data_train)\n",
    "\n",
    "print grid_ridge_m.best_params_\n",
    "print \"RMSLE Value For Ridge Regression: \", rmsle(np.exp(y_labels_log), np.exp(preds),False)\n",
    "\n",
    "\n",
    "fig, ax = plt.subplots()\n",
    "fig.set_size_inches(12,5)\n",
    "df = pd.DataFrame(grid_ridge_m.grid_scores_)\n",
    "df['alpha'] = df['parameters'].apply(lambda x:x['alpha'])\n",
    "df['rmsle'] = df['mean_validation_score'].apply(lambda x: -x)\n",
    "sns.pointplot(data=df, x=\"alpha\", y=\"rmsle\", ax=ax)"
   ]
  },
  {
   "cell_type": "markdown",
   "metadata": {},
   "source": [
    "**Regularization Model - Lasso**"
   ]
  },
  {
   "cell_type": "code",
   "execution_count": 34,
   "metadata": {},
   "outputs": [
    {
     "name": "stdout",
     "output_type": "stream",
     "text": [
      "{'alpha': 0.0050000000000000001, 'max_iter': 3000}\n",
      "RMSLE Value For Lasso Regression:  0.97796145503\n"
     ]
    },
    {
     "data": {
      "text/plain": [
       "<matplotlib.axes._subplots.AxesSubplot at 0x7f7d6b792b90>"
      ]
     },
     "execution_count": 34,
     "metadata": {},
     "output_type": "execute_result"
    },
    {
     "data": {
      "image/png": "[encoded data removed]",
      "text/plain": [
       "<matplotlib.figure.Figure at 0x7f7d6ba7d390>"
      ]
     },
     "metadata": {},
     "output_type": "display_data"
    }
   ],
   "source": [
    "lasso_m_ = Lasso()\n",
    "alpha  = 1/np.array([0.1, 1, 2, 3, 4, 10, 30,100,200,300,400,800,900,1000])\n",
    "new_alpha = np.concatenate((alpha, np.array([0.1, 1, 2, 3, 4, 10, 30,100,200,300,400,800,900,1000])), axis=0)\n",
    "lasso_param_ = { 'max_iter':[3000], 'alpha':new_alpha}\n",
    "\n",
    "grid_lasso_m = GridSearchCV( lasso_m_, lasso_param_, scoring = rmsle_scorer, cv=5)\n",
    "\n",
    "y_labels_log = np.log1p(y_labels)\n",
    "grid_lasso_m.fit(data_train, y_labels_log)\n",
    "preds = grid_lasso_m.predict(X=data_train)\n",
    "\n",
    "print grid_lasso_m.best_params_\n",
    "print \"RMSLE Value For Lasso Regression: \",rmsle(np.exp(y_labels_log),np.exp(preds),False)\n",
    "\n",
    "fig,ax= plt.subplots()\n",
    "fig.set_size_inches(18,5)\n",
    "df = pd.DataFrame(grid_lasso_m.grid_scores_)\n",
    "df[\"alpha\"] = df[\"parameters\"].apply(lambda x:x[\"alpha\"])\n",
    "df[\"rmsle\"] = df[\"mean_validation_score\"].apply(lambda x:-x)\n",
    "sns.pointplot(data=df,x=\"alpha\",y=\"rmsle\",ax=ax)\n",
    "\n"
   ]
  },
  {
   "cell_type": "markdown",
   "metadata": {},
   "source": [
    "可以看到Lasso在10之後就是一個放棄fitting的狀態"
   ]
  },
  {
   "cell_type": "markdown",
   "metadata": {},
   "source": [
    "**Ensemble Models - Random Forest**"
   ]
  },
  {
   "cell_type": "code",
   "execution_count": 81,
   "metadata": {},
   "outputs": [
    {
     "name": "stdout",
     "output_type": "stream",
     "text": [
      "('RMSLE Value For Random Forest: ', 0.10031550243021067)\n"
     ]
    }
   ],
   "source": [
    "from sklearn.ensemble import RandomForestRegressor\n",
    "rf_model = RandomForestRegressor(n_estimators=1000)\n",
    "y_labels_log = np.log1p(y_labels)\n",
    "rf_model.fit(data_train, y_labels_log)\n",
    "preds = rf_model.predict(X=data_train)\n",
    "print (\"RMSLE Value For Random Forest: \",rmsle(np.exp(y_labels_log),np.exp(preds),False))\n"
   ]
  },
  {
   "cell_type": "code",
   "execution_count": 86,
   "metadata": {},
   "outputs": [
    {
     "name": "stdout",
     "output_type": "stream",
     "text": [
      "{'n_estimators': 450}\n",
      "RMSLE Value For RF Regression:  0.101595941979\n"
     ]
    }
   ],
   "source": [
    "from sklearn.model_selection import RandomizedSearchCV\n",
    "rfm = RandomForestRegressor()\n",
    "rf_params_ = {'n_estimators':[10,50, 100,150, 200, 250, 300, 350, 400, 450]}\n",
    "rmsle_scorer = metrics.make_scorer(rmsle, greater_is_better=False)\n",
    "random_rfm = RandomizedSearchCV(rfm,rf_params_,scoring = rmsle_scorer,cv=5)\n",
    "y_labels_log = np.log1p(y_labels)\n",
    "random_rfm.fit(data_train, y_labels_log)\n",
    "preds = random_rfm.predict(X=data_train)\n",
    "print random_rfm.best_params_\n",
    "print \"RMSLE Value For RF Regression: \",rmsle(np.exp(y_labels_log),np.exp(preds),False)\n"
   ]
  },
  {
   "cell_type": "markdown",
   "metadata": {},
   "source": [
    "**Ensemble Model - Gradient Boost**"
   ]
  },
  {
   "cell_type": "code",
   "execution_count": 46,
   "metadata": {},
   "outputs": [
    {
     "name": "stdout",
     "output_type": "stream",
     "text": [
      "('RMSLE Value For Gradient Boost: ', 0.084167140026240594)\n"
     ]
    }
   ],
   "source": [
    "from sklearn.ensemble import GradientBoostingRegressor\n",
    "gbm = GradientBoostingRegressor(n_estimators=80000, alpha=0.001)\n",
    "y_label_log = np.log1p(y_labels)\n",
    "gbm.fit(data_train, y_labels_log)\n",
    "preds = gbm.predict(X=data_train)\n",
    "print (\"RMSLE Value For Gradient Boost: \",rmsle(np.exp(y_label_log),np.exp(preds),False))"
   ]
  },
  {
   "cell_type": "code",
   "execution_count": 71,
   "metadata": {},
   "outputs": [
    {
     "name": "stdout",
     "output_type": "stream",
     "text": [
      "1.24206621172\n",
      "<class 'pandas.core.series.Series'>\n"
     ]
    },
    {
     "data": {
      "text/plain": [
       "-0.8150341882928468"
      ]
     },
     "execution_count": 71,
     "metadata": {},
     "output_type": "execute_result"
    },
    {
     "data": {
      "image/png": "[encoded data removed]",
      "text/plain": [
       "<matplotlib.figure.Figure at 0x7f7d67398810>"
      ]
     },
     "metadata": {},
     "output_type": "display_data"
    }
   ],
   "source": [
    "preds_test = gbm.predict(X=data_test)\n",
    "fig, (ax1,ax2) = plt.subplots(ncols=2)\n",
    "fig.set_size_inches(12,5)\n",
    "sns.distplot(y_labels,ax=ax1, bins=50)\n",
    "sns.distplot(np.exp(preds_test), ax = ax2, bins=50)\n",
    "\n",
    "print y_labels.skew()\n",
    "print type(y_labels)\n",
    "pd.DataFrame(preds_test).rename(columns={0:'pred'}).pred.skew()\n",
    "# preds_test.tolist.skew()\n",
    "# print np.exp(preds_test).skew"
   ]
  },
  {
   "cell_type": "code",
   "execution_count": 79,
   "metadata": {},
   "outputs": [
    {
     "data": {
      "text/html": [
       "<div>\n",
       "<style>\n",
       "    .dataframe thead tr:only-child th {\n",
       "        text-align: right;\n",
       "    }\n",
       "\n",
       "    .dataframe thead th {\n",
       "        text-align: left;\n",
       "    }\n",
       "\n",
       "    .dataframe tbody tr th {\n",
       "        vertical-align: top;\n",
       "    }\n",
       "</style>\n",
       "<table border=\"1\" class=\"dataframe\">\n",
       "  <thead>\n",
       "    <tr style=\"text-align: right;\">\n",
       "      <th></th>\n",
       "      <th>count</th>\n",
       "      <th>datetime</th>\n",
       "    </tr>\n",
       "  </thead>\n",
       "  <tbody>\n",
       "    <tr>\n",
       "      <th>0</th>\n",
       "      <td>15.082167</td>\n",
       "      <td>2011-01-20 00:00:00</td>\n",
       "    </tr>\n",
       "    <tr>\n",
       "      <th>1</th>\n",
       "      <td>6.407384</td>\n",
       "      <td>2011-01-20 01:00:00</td>\n",
       "    </tr>\n",
       "    <tr>\n",
       "      <th>2</th>\n",
       "      <td>4.439539</td>\n",
       "      <td>2011-01-20 02:00:00</td>\n",
       "    </tr>\n",
       "    <tr>\n",
       "      <th>3</th>\n",
       "      <td>4.365851</td>\n",
       "      <td>2011-01-20 03:00:00</td>\n",
       "    </tr>\n",
       "    <tr>\n",
       "      <th>4</th>\n",
       "      <td>2.042998</td>\n",
       "      <td>2011-01-20 04:00:00</td>\n",
       "    </tr>\n",
       "  </tbody>\n",
       "</table>\n",
       "</div>"
      ],
      "text/plain": [
       "       count             datetime\n",
       "0  15.082167  2011-01-20 00:00:00\n",
       "1   6.407384  2011-01-20 01:00:00\n",
       "2   4.439539  2011-01-20 02:00:00\n",
       "3   4.365851  2011-01-20 03:00:00\n",
       "4   2.042998  2011-01-20 04:00:00"
      ]
     },
     "execution_count": 79,
     "metadata": {},
     "output_type": "execute_result"
    }
   ],
   "source": [
    "datetimecol = pd.read_csv(test_data_path)[\"datetime\"]\n",
    "submission = pd.DataFrame({\n",
    "        \"datetime\":datetimecol,\n",
    "        \"count\":[max(0,x) for x in np.exp(preds_test)]\n",
    "})\n",
    "submission.to_csv('bike_predictions_gbm_separate_without_fe.csv', index=False)\n",
    "res = pd.read_csv('bike_predictions_gbm_separate_without_fe.csv')\n",
    "res.head(5)"
   ]
  },
  {
   "cell_type": "code",
   "execution_count": null,
   "metadata": {},
   "outputs": [],
   "source": []
  }
 ],
 "metadata": {
  "kernelspec": {
   "display_name": "Python 2",
   "language": "python",
   "name": "python2"
  },
  "language_info": {
   "codemirror_mode": {
    "name": "ipython",
    "version": 2
   },
   "file_extension": ".py",
   "mimetype": "text/x-python",
   "name": "python",
   "nbconvert_exporter": "python",
   "pygments_lexer": "ipython2",
   "version": "2.7.13"
  }
 },
 "nbformat": 4,
 "nbformat_minor": 2
}
